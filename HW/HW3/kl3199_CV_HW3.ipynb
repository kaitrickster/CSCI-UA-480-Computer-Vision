{
 "cells": [
  {
   "cell_type": "code",
   "execution_count": 0,
   "metadata": {
    "colab": {},
    "colab_type": "code",
    "id": "Rz3liwFAZrlR"
   },
   "outputs": [],
   "source": [
    "import os \n",
    "from glob import glob\n",
    "import torch\n",
    "import torch.nn as nn\n",
    "import torch.optim as optim\n",
    "import torch.utils.data as data\n",
    "from torchvision.models import resnet18\n",
    "import torchvision.transforms as transforms\n",
    "import tqdm\n",
    "from PIL import Image\n",
    "from torch.utils.data import Dataset\n",
    "import pandas as pd"
   ]
  },
  {
   "cell_type": "code",
   "execution_count": 0,
   "metadata": {
    "colab": {},
    "colab_type": "code",
    "id": "yrHburq1ZxsR"
   },
   "outputs": [],
   "source": [
    "class ImageNet(Dataset):\n",
    "    def __init__(self):\n",
    "        self.path = \"/content/drive/My Drive/CV/imagenet_12/imagenet_12_train\"\n",
    "        self.folder_paths = glob(\"{}/*/\".format(self.path))\n",
    "        \n",
    "        # since there are only two classes, we could hard code the label dic\n",
    "        self.lbl_dic = {\"n02123394\": 1, \"n02109961\":0}\n",
    "        # 1: cat   0: dog\n",
    "\n",
    "        self.img_transforms = transforms.Compose([\n",
    "            transforms.Resize((256, 256)),\n",
    "            transforms.ToTensor(),\n",
    "            transforms.Normalize([0.485, 0.456, 0.406], [0.229, 0.224, 0.225]),\n",
    "        ])\n",
    "\n",
    "        self.imgs = []\n",
    "        self.lbls = []\n",
    "        for folder_path in self.folder_paths:\n",
    "            image_paths = glob(\"{}/*\".format(folder_path))\n",
    "            self.imgs += image_paths\n",
    "            self.lbls += [self.lbl_dic[folder_path.split(\"/\")[-2]]] * len(image_paths)\n",
    "    \n",
    "    def __getitem__(self, index):\n",
    "        img = Image.open(self.imgs[index]).convert(\"RGB\")\n",
    "        img = self.img_transforms(img)\n",
    "        lbl = self.lbls[index]\n",
    "        return img, lbl\n",
    "    \n",
    "    def __len__(self):\n",
    "        return len(self.imgs)"
   ]
  },
  {
   "cell_type": "code",
   "execution_count": 3,
   "metadata": {
    "colab": {
     "base_uri": "https://localhost:8080/",
     "height": 34
    },
    "colab_type": "code",
    "executionInfo": {
     "elapsed": 2024,
     "status": "ok",
     "timestamp": 1583449868371,
     "user": {
      "displayName": "Kai Liao",
      "photoUrl": "https://lh3.googleusercontent.com/a-/AOh14GjjTZ4rZ4IGXhua-hZb17tQHg8KH9JdDDd6Wm-f=s64",
      "userId": "02833071413464728827"
     },
     "user_tz": 300
    },
    "id": "y7CjMooOaTbP",
    "outputId": "ac9b5c5f-9241-471f-804f-4a46222102c7"
   },
   "outputs": [
    {
     "name": "stdout",
     "output_type": "stream",
     "text": [
      "Drive already mounted at /content/drive; to attempt to forcibly remount, call drive.mount(\"/content/drive\", force_remount=True).\n"
     ]
    }
   ],
   "source": [
    "from google.colab import drive\n",
    "drive.mount('/content/drive')"
   ]
  },
  {
   "cell_type": "code",
   "execution_count": 0,
   "metadata": {
    "colab": {},
    "colab_type": "code",
    "id": "eF8lcyohmSZ6"
   },
   "outputs": [],
   "source": [
    "class ResNet(nn.Module):\n",
    "    def __init__(self):\n",
    "        super(ResNet, self).__init__()\n",
    "        self.pretrained_resnet = resnet18(pretrained=False)\n",
    "        self.resnet = nn.Sequential(*list(self.pretrained_resnet.children())[:-1])\n",
    "        self.fc1 = nn.Linear(512, 2)\n",
    "    \n",
    "    def forward(self, x):\n",
    "        x = self.resnet(x)  #[batch_saize, 512, 1, 1]\n",
    "        x = self.fc1(x.view(-1, 512))\n",
    "        return x"
   ]
  },
  {
   "cell_type": "code",
   "execution_count": 0,
   "metadata": {
    "colab": {},
    "colab_type": "code",
    "id": "t1zmc4waHVTb"
   },
   "outputs": [],
   "source": [
    "tiny_image_net = ImageNet()\n",
    "total_size = len(tiny_image_net)\n",
    "train_size, val_size = int(total_size*0.6), int(total_size*0.2)\n",
    "test_size = total_size - train_size - val_size\n",
    "\n",
    "torch.manual_seed(0)\n",
    "train_dataset, val_dataset, test_dataset = torch.utils.data.random_split(tiny_image_net, \n",
    "                                                                         [train_size, val_size, test_size])\n",
    "\n",
    "BATCH_SIZE = 20\n",
    "train_loader = torch.utils.data.DataLoader(train_dataset, batch_size=BATCH_SIZE, shuffle=True)\n",
    "val_loader = torch.utils.data.DataLoader(val_dataset, batch_size=BATCH_SIZE, shuffle=False)\n",
    "test_loader = torch.utils.data.DataLoader(test_dataset, batch_size=BATCH_SIZE, shuffle=False)"
   ]
  },
  {
   "cell_type": "code",
   "execution_count": 6,
   "metadata": {
    "colab": {
     "base_uri": "https://localhost:8080/",
     "height": 34
    },
    "colab_type": "code",
    "executionInfo": {
     "elapsed": 5179,
     "status": "ok",
     "timestamp": 1583449871540,
     "user": {
      "displayName": "Kai Liao",
      "photoUrl": "https://lh3.googleusercontent.com/a-/AOh14GjjTZ4rZ4IGXhua-hZb17tQHg8KH9JdDDd6Wm-f=s64",
      "userId": "02833071413464728827"
     },
     "user_tz": 300
    },
    "id": "GMA4huGSfqOU",
    "outputId": "64bcd261-eb43-43df-e8ae-d6ce805a26b0"
   },
   "outputs": [
    {
     "name": "stdout",
     "output_type": "stream",
     "text": [
      "yes\n"
     ]
    }
   ],
   "source": [
    "if torch.cuda.is_available():\n",
    "    device = torch.device(\"cuda:0\")\n",
    "    print(\"yes\")\n",
    "else:\n",
    "    device=torch.device('cpu')\n",
    "\n",
    "model = ResNet()\n",
    "model.to(device)\n",
    "criterion = nn.CrossEntropyLoss()\n",
    "optimizer = optim.SGD(model.parameters(), lr=1e-3, momentum=0.9)"
   ]
  },
  {
   "cell_type": "code",
   "execution_count": 0,
   "metadata": {
    "colab": {},
    "colab_type": "code",
    "id": "gGxEH91IAlL0"
   },
   "outputs": [],
   "source": [
    "def evaluate_acc(model, dataloader):\n",
    "    model.eval()\n",
    "    correct, total = 0, 0\n",
    "    with torch.no_grad():\n",
    "        for i, (imgs, lbls) in enumerate(dataloader):\n",
    "            outs = model(imgs.to(device))\n",
    "            _, temp_preds = torch.max(outs, 1)\n",
    "            total += lbls.size(0)\n",
    "            temp_preds = temp_preds.cpu()\n",
    "            correct += (temp_preds == lbls).sum().item()\n",
    "    return correct / total"
   ]
  },
  {
   "cell_type": "code",
   "execution_count": 8,
   "metadata": {
    "colab": {
     "base_uri": "https://localhost:8080/",
     "height": 66,
     "referenced_widgets": [
      "d65fa53af13f4e0ab9b42400ffcdffc6",
      "b575509193c54ef794c6a7349a9428c1",
      "b1770c5691f8452a8405b585ad8d2f8d",
      "6925a519b7d2400ebbc5b3dd7ed2933c",
      "2d6f1e475b044a75b4025c0a2f51d180",
      "7e3d6b4358d5414ab76d73a911491394",
      "de7fe7965d9d45c58dbce9794bf17e76",
      "c64956bd2c7a49a2ad599f962bfb41ce"
     ]
    },
    "colab_type": "code",
    "executionInfo": {
     "elapsed": 95655,
     "status": "ok",
     "timestamp": 1583451129885,
     "user": {
      "displayName": "Kai Liao",
      "photoUrl": "https://lh3.googleusercontent.com/a-/AOh14GjjTZ4rZ4IGXhua-hZb17tQHg8KH9JdDDd6Wm-f=s64",
      "userId": "02833071413464728827"
     },
     "user_tz": 300
    },
    "id": "ViuDcYYkHet0",
    "outputId": "ef50d0bb-bfde-4446-c8e2-38c2887cd560"
   },
   "outputs": [
    {
     "data": {
      "application/vnd.jupyter.widget-view+json": {
       "model_id": "d65fa53af13f4e0ab9b42400ffcdffc6",
       "version_major": 2,
       "version_minor": 0
      },
      "text/plain": [
       "HBox(children=(IntProgress(value=0, max=50), HTML(value='')))"
      ]
     },
     "metadata": {
      "tags": []
     },
     "output_type": "display_data"
    },
    {
     "name": "stdout",
     "output_type": "stream",
     "text": [
      "\n"
     ]
    }
   ],
   "source": [
    "train_loss_history = []\n",
    "val_accuracy_history = []\n",
    "NUM_EPOCHS=50\n",
    "\n",
    "for epoch in tqdm.tqdm_notebook(range(NUM_EPOCHS)):\n",
    "    model.train() \n",
    "    for i, (imgs, lbls) in enumerate(train_loader):\n",
    "        preds = model(imgs.to(device))\n",
    "        loss = criterion(preds, lbls.to(device))\n",
    "        loss.backward()\n",
    "        optimizer.step()\n",
    "        optimizer.zero_grad()\n",
    "        train_loss_history.append(loss.item())\n",
    "\n",
    "    cur_val_acc = evaluate_acc(model, val_loader)\n",
    "    val_accuracy_history.append(cur_val_acc)"
   ]
  },
  {
   "cell_type": "code",
   "execution_count": 9,
   "metadata": {
    "colab": {
     "base_uri": "https://localhost:8080/",
     "height": 282
    },
    "colab_type": "code",
    "executionInfo": {
     "elapsed": 12,
     "status": "ok",
     "timestamp": 1583451129886,
     "user": {
      "displayName": "Kai Liao",
      "photoUrl": "https://lh3.googleusercontent.com/a-/AOh14GjjTZ4rZ4IGXhua-hZb17tQHg8KH9JdDDd6Wm-f=s64",
      "userId": "02833071413464728827"
     },
     "user_tz": 300
    },
    "id": "opmntOsNP8Xe",
    "outputId": "acd3d217-520b-481c-c8b9-854cd0a236e3"
   },
   "outputs": [
    {
     "data": {
      "text/plain": [
       "<matplotlib.axes._subplots.AxesSubplot at 0x7f6664488358>"
      ]
     },
     "execution_count": 9,
     "metadata": {
      "tags": []
     },
     "output_type": "execute_result"
    },
    {
     "data": {
      "image/png": "[encoded data removed]",
      "text/plain": [
       "<Figure size 432x288 with 1 Axes>"
      ]
     },
     "metadata": {
      "tags": []
     },
     "output_type": "display_data"
    }
   ],
   "source": [
    "pd.Series(train_loss_history).plot()"
   ]
  },
  {
   "cell_type": "code",
   "execution_count": 10,
   "metadata": {
    "colab": {
     "base_uri": "https://localhost:8080/",
     "height": 282
    },
    "colab_type": "code",
    "executionInfo": {
     "elapsed": 497,
     "status": "ok",
     "timestamp": 1583451130379,
     "user": {
      "displayName": "Kai Liao",
      "photoUrl": "https://lh3.googleusercontent.com/a-/AOh14GjjTZ4rZ4IGXhua-hZb17tQHg8KH9JdDDd6Wm-f=s64",
      "userId": "02833071413464728827"
     },
     "user_tz": 300
    },
    "id": "tLwXcIyfip8T",
    "outputId": "11c53936-74a6-40c9-9d80-2cee713d6a9a"
   },
   "outputs": [
    {
     "data": {
      "text/plain": [
       "<matplotlib.axes._subplots.AxesSubplot at 0x7f66641bd748>"
      ]
     },
     "execution_count": 10,
     "metadata": {
      "tags": []
     },
     "output_type": "execute_result"
    },
    {
     "data": {
      "image/png": "[encoded data removed]",
      "text/plain": [
       "<Figure size 432x288 with 1 Axes>"
      ]
     },
     "metadata": {
      "tags": []
     },
     "output_type": "display_data"
    }
   ],
   "source": [
    "pd.Series(val_accuracy_history).plot()"
   ]
  },
  {
   "cell_type": "code",
   "execution_count": 11,
   "metadata": {
    "colab": {
     "base_uri": "https://localhost:8080/",
     "height": 34
    },
    "colab_type": "code",
    "executionInfo": {
     "elapsed": 232976,
     "status": "ok",
     "timestamp": 1583451363351,
     "user": {
      "displayName": "Kai Liao",
      "photoUrl": "https://lh3.googleusercontent.com/a-/AOh14GjjTZ4rZ4IGXhua-hZb17tQHg8KH9JdDDd6Wm-f=s64",
      "userId": "02833071413464728827"
     },
     "user_tz": 300
    },
    "id": "Rg67PF5r2_VE",
    "outputId": "ba6044bd-171a-42d3-ae12-a57e73deb361"
   },
   "outputs": [
    {
     "name": "stdout",
     "output_type": "stream",
     "text": [
      "0.8423076923076923\n"
     ]
    }
   ],
   "source": [
    "test_accuracy = evaluate_acc(model, test_loader)\n",
    "print(test_accuracy)"
   ]
  }
 ],
 "metadata": {
  "accelerator": "GPU",
  "colab": {
   "authorship_tag": "ABX9TyMg2ucQyU6V9mWQOIx6DXtq",
   "collapsed_sections": [],
   "name": "kl3199_CV_HW3.ipynb",
   "provenance": []
  },
  "kernelspec": {
   "display_name": "Python 3",
   "language": "python",
   "name": "python3"
  },
  "language_info": {
   "codemirror_mode": {
    "name": "ipython",
    "version": 3
   },
   "file_extension": ".py",
   "mimetype": "text/x-python",
   "name": "python",
   "nbconvert_exporter": "python",
   "pygments_lexer": "ipython3",
   "version": "3.7.4"
  },
  "widgets": {
   "application/vnd.jupyter.widget-state+json": {
    "2d6f1e475b044a75b4025c0a2f51d180": {
     "model_module": "@jupyter-widgets/controls",
     "model_name": "ProgressStyleModel",
     "state": {
      "_model_module": "@jupyter-widgets/controls",
      "_model_module_version": "1.5.0",
      "_model_name": "ProgressStyleModel",
      "_view_count": null,
      "_view_module": "@jupyter-widgets/base",
      "_view_module_version": "1.2.0",
      "_view_name": "StyleView",
      "bar_color": null,
      "description_width": ""
     }
    },
    "6925a519b7d2400ebbc5b3dd7ed2933c": {
     "model_module": "@jupyter-widgets/controls",
     "model_name": "HTMLModel",
     "state": {
      "_dom_classes": [],
      "_model_module": "@jupyter-widgets/controls",
      "_model_module_version": "1.5.0",
      "_model_name": "HTMLModel",
      "_view_count": null,
      "_view_module": "@jupyter-widgets/controls",
      "_view_module_version": "1.5.0",
      "_view_name": "HTMLView",
      "description": "",
      "description_tooltip": null,
      "layout": "IPY_MODEL_c64956bd2c7a49a2ad599f962bfb41ce",
      "placeholder": "​",
      "style": "IPY_MODEL_de7fe7965d9d45c58dbce9794bf17e76",
      "value": "100% 50/50 [20:58&lt;00:00, 25.00s/it]"
     }
    },
    "7e3d6b4358d5414ab76d73a911491394": {
     "model_module": "@jupyter-widgets/base",
     "model_name": "LayoutModel",
     "state": {
      "_model_module": "@jupyter-widgets/base",
      "_model_module_version": "1.2.0",
      "_model_name": "LayoutModel",
      "_view_count": null,
      "_view_module": "@jupyter-widgets/base",
      "_view_module_version": "1.2.0",
      "_view_name": "LayoutView",
      "align_content": null,
      "align_items": null,
      "align_self": null,
      "border": null,
      "bottom": null,
      "display": null,
      "flex": null,
      "flex_flow": null,
      "grid_area": null,
      "grid_auto_columns": null,
      "grid_auto_flow": null,
      "grid_auto_rows": null,
      "grid_column": null,
      "grid_gap": null,
      "grid_row": null,
      "grid_template_areas": null,
      "grid_template_columns": null,
      "grid_template_rows": null,
      "height": null,
      "justify_content": null,
      "justify_items": null,
      "left": null,
      "margin": null,
      "max_height": null,
      "max_width": null,
      "min_height": null,
      "min_width": null,
      "object_fit": null,
      "object_position": null,
      "order": null,
      "overflow": null,
      "overflow_x": null,
      "overflow_y": null,
      "padding": null,
      "right": null,
      "top": null,
      "visibility": null,
      "width": null
     }
    },
    "b1770c5691f8452a8405b585ad8d2f8d": {
     "model_module": "@jupyter-widgets/controls",
     "model_name": "IntProgressModel",
     "state": {
      "_dom_classes": [],
      "_model_module": "@jupyter-widgets/controls",
      "_model_module_version": "1.5.0",
      "_model_name": "IntProgressModel",
      "_view_count": null,
      "_view_module": "@jupyter-widgets/controls",
      "_view_module_version": "1.5.0",
      "_view_name": "ProgressView",
      "bar_style": "success",
      "description": "",
      "description_tooltip": null,
      "layout": "IPY_MODEL_7e3d6b4358d5414ab76d73a911491394",
      "max": 50,
      "min": 0,
      "orientation": "horizontal",
      "style": "IPY_MODEL_2d6f1e475b044a75b4025c0a2f51d180",
      "value": 50
     }
    },
    "b575509193c54ef794c6a7349a9428c1": {
     "model_module": "@jupyter-widgets/base",
     "model_name": "LayoutModel",
     "state": {
      "_model_module": "@jupyter-widgets/base",
      "_model_module_version": "1.2.0",
      "_model_name": "LayoutModel",
      "_view_count": null,
      "_view_module": "@jupyter-widgets/base",
      "_view_module_version": "1.2.0",
      "_view_name": "LayoutView",
      "align_content": null,
      "align_items": null,
      "align_self": null,
      "border": null,
      "bottom": null,
      "display": null,
      "flex": null,
      "flex_flow": null,
      "grid_area": null,
      "grid_auto_columns": null,
      "grid_auto_flow": null,
      "grid_auto_rows": null,
      "grid_column": null,
      "grid_gap": null,
      "grid_row": null,
      "grid_template_areas": null,
      "grid_template_columns": null,
      "grid_template_rows": null,
      "height": null,
      "justify_content": null,
      "justify_items": null,
      "left": null,
      "margin": null,
      "max_height": null,
      "max_width": null,
      "min_height": null,
      "min_width": null,
      "object_fit": null,
      "object_position": null,
      "order": null,
      "overflow": null,
      "overflow_x": null,
      "overflow_y": null,
      "padding": null,
      "right": null,
      "top": null,
      "visibility": null,
      "width": null
     }
    },
    "c64956bd2c7a49a2ad599f962bfb41ce": {
     "model_module": "@jupyter-widgets/base",
     "model_name": "LayoutModel",
     "state": {
      "_model_module": "@jupyter-widgets/base",
      "_model_module_version": "1.2.0",
      "_model_name": "LayoutModel",
      "_view_count": null,
      "_view_module": "@jupyter-widgets/base",
      "_view_module_version": "1.2.0",
      "_view_name": "LayoutView",
      "align_content": null,
      "align_items": null,
      "align_self": null,
      "border": null,
      "bottom": null,
      "display": null,
      "flex": null,
      "flex_flow": null,
      "grid_area": null,
      "grid_auto_columns": null,
      "grid_auto_flow": null,
      "grid_auto_rows": null,
      "grid_column": null,
      "grid_gap": null,
      "grid_row": null,
      "grid_template_areas": null,
      "grid_template_columns": null,
      "grid_template_rows": null,
      "height": null,
      "justify_content": null,
      "justify_items": null,
      "left": null,
      "margin": null,
      "max_height": null,
      "max_width": null,
      "min_height": null,
      "min_width": null,
      "object_fit": null,
      "object_position": null,
      "order": null,
      "overflow": null,
      "overflow_x": null,
      "overflow_y": null,
      "padding": null,
      "right": null,
      "top": null,
      "visibility": null,
      "width": null
     }
    },
    "d65fa53af13f4e0ab9b42400ffcdffc6": {
     "model_module": "@jupyter-widgets/controls",
     "model_name": "HBoxModel",
     "state": {
      "_dom_classes": [],
      "_model_module": "@jupyter-widgets/controls",
      "_model_module_version": "1.5.0",
      "_model_name": "HBoxModel",
      "_view_count": null,
      "_view_module": "@jupyter-widgets/controls",
      "_view_module_version": "1.5.0",
      "_view_name": "HBoxView",
      "box_style": "",
      "children": [
       "IPY_MODEL_b1770c5691f8452a8405b585ad8d2f8d",
       "IPY_MODEL_6925a519b7d2400ebbc5b3dd7ed2933c"
      ],
      "layout": "IPY_MODEL_b575509193c54ef794c6a7349a9428c1"
     }
    },
    "de7fe7965d9d45c58dbce9794bf17e76": {
     "model_module": "@jupyter-widgets/controls",
     "model_name": "DescriptionStyleModel",
     "state": {
      "_model_module": "@jupyter-widgets/controls",
      "_model_module_version": "1.5.0",
      "_model_name": "DescriptionStyleModel",
      "_view_count": null,
      "_view_module": "@jupyter-widgets/base",
      "_view_module_version": "1.2.0",
      "_view_name": "StyleView",
      "description_width": ""
     }
    }
   }
  }
 },
 "nbformat": 4,
 "nbformat_minor": 1
}
