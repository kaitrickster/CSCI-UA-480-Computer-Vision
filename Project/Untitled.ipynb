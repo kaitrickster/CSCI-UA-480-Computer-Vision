{
 "cells": [
  {
   "cell_type": "code",
   "execution_count": 1,
   "metadata": {},
   "outputs": [],
   "source": [
    "import torch\n",
    "import torch.nn as nn\n",
    "import torch.optim as optim\n",
    "import torchvision.transforms as transforms\n",
    "import torchvision\n",
    "from torch.utils.data import Dataset\n",
    "import torch.nn.functional as F\n",
    "\n",
    "import pandas as pd\n",
    "from PIL import Image\n",
    "import tqdm\n",
    "from glob import glob\n",
    "\n",
    "# Mingxing Tan, Quoc V. Le, EfficientNet: Rethinking Model Scaling for Convolutional Neural Networks. ICML 2019\n",
    "from efficientnet_pytorch import EfficientNet"
   ]
  },
  {
   "cell_type": "code",
   "execution_count": 2,
   "metadata": {},
   "outputs": [],
   "source": [
    "class GTSRB(Dataset):\n",
    "    def __init__(self):\n",
    "        self.path = \"./GTSRB/Training\"\n",
    "        self.folder_paths = sorted(glob(\"{}/*/\".format(self.path)))\n",
    "        self.class_ind = 0\n",
    "        \n",
    "        # data augmentation\n",
    "        self.img_transforms = transforms.Compose([\n",
    "#             transforms.ColorJitter(brightness=0.2, contrast=0.2, hue=0.2),\n",
    "            transforms.Resize((128, 128)),\n",
    "            transforms.ToTensor(),\n",
    "            transforms.Normalize([0.485, 0.456, 0.406], [0.229, 0.224, 0.225])\n",
    "        ])\n",
    "\n",
    "        self.imgs = []\n",
    "        self.lbls = []\n",
    "        \n",
    "        for folder_path in self.folder_paths:\n",
    "            image_paths = sorted(glob(\"{}/*\".format(folder_path)))\n",
    "            # remove last csv file in the folder\n",
    "            image_paths.pop()\n",
    "            self.imgs += image_paths\n",
    "            self.lbls += [self.class_ind] * len(image_paths)\n",
    "            self.class_ind += 1\n",
    "\n",
    "    def __getitem__(self, index):\n",
    "        img = Image.open(self.imgs[index]).convert(\"RGB\")\n",
    "        img = self.img_transforms(img)\n",
    "        lbl = self.lbls[index]\n",
    "        return img, lbl\n",
    "    \n",
    "    def __len__(self):\n",
    "        return len(self.imgs)"
   ]
  },
  {
   "cell_type": "code",
   "execution_count": 3,
   "metadata": {},
   "outputs": [],
   "source": [
    "class GTSRBTest(Dataset):\n",
    "    def __init__(self):\n",
    "        self.imgs = []\n",
    "        self.lbls = []\n",
    "        \n",
    "        self.img_transforms = transforms.Compose([\n",
    "            transforms.Resize((128, 128)),\n",
    "            transforms.ToTensor(),\n",
    "            transforms.Normalize([0.485, 0.456, 0.406], [0.229, 0.224, 0.225])\n",
    "        ])\n",
    "        \n",
    "        for filename in sorted(glob(\"./GTSRB/Final_Test/Images/*.ppm\")):\n",
    "            img = Image.open(filename).convert(\"RGB\")\n",
    "            self.imgs.append(img)\n",
    "        \n",
    "        df = pd.read_csv(\"./GTSRB/Final_Test/GT-final_test.csv\")\n",
    "        self.lbls = list(df[\"ClassId\"])\n",
    "    \n",
    "    def __getitem__(self, index):\n",
    "        img = self.img_transforms(self.imgs[index])\n",
    "        lbl = self.lbls[index]\n",
    "        return img, lbl\n",
    "    \n",
    "    def __len__(self):\n",
    "        return len(self.imgs)"
   ]
  },
  {
   "cell_type": "code",
   "execution_count": 16,
   "metadata": {
    "scrolled": true
   },
   "outputs": [
    {
     "name": "stdout",
     "output_type": "stream",
     "text": [
      "21312\n",
      "5328\n",
      "12630\n"
     ]
    }
   ],
   "source": [
    "train_set = GTSRB()\n",
    "test_set = GTSRBTest()\n",
    "\n",
    "train_size = int(len(train_set) * 0.8)\n",
    "val_size = len(train_set) - train_size\n",
    "\n",
    "train_set, val_set = torch.utils.data.random_split(train_set, [train_size, val_size])\n",
    "\n",
    "print(len(train_set))\n",
    "print(len(val_set))\n",
    "print(len(test_set))"
   ]
  },
  {
   "cell_type": "code",
   "execution_count": 5,
   "metadata": {},
   "outputs": [],
   "source": [
    "torch.manual_seed(0)\n",
    "\n",
    "train_loader = torch.utils.data.DataLoader(train_set, batch_size=100, shuffle=True)\n",
    "test_loader = torch.utils.data.DataLoader(test_set, batch_size=100, shuffle=False)"
   ]
  },
  {
   "cell_type": "code",
   "execution_count": 6,
   "metadata": {},
   "outputs": [],
   "source": [
    "class EfficientNetWrapper(nn.Module):\n",
    "    def __init__(self):\n",
    "        super(EfficientNetWrapper, self).__init__()\n",
    "        \n",
    "        # Load imagenet pre-trained model \n",
    "        self.effNet = EfficientNet.from_pretrained('efficientnet-b0')\n",
    "        self.MLP = nn.Sequential(\n",
    "            nn.Linear(1000, 500),\n",
    "            nn.LeakyReLU(),\n",
    "            nn.Linear(500, 200),\n",
    "            nn.LeakyReLU(),\n",
    "            nn.Linear(200, 43)\n",
    "        )\n",
    "        \n",
    "#         self.fc1 = nn.Linear(1000, 500)\n",
    "#         self.fc2 = nn.Linear(500, 200)\n",
    "#         self.fc3 = nn.Linear(200, 43)\n",
    "    \n",
    "    \n",
    "    def forward(self, x):\n",
    "        x = self.effNet(x)\n",
    "        x = self.MLP(x)\n",
    "        \n",
    "#         Mish activation function\n",
    "#         x = self.fc1(x)\n",
    "#         x = x * (torch.tanh(F.softplus(x)))\n",
    "#         x = self.fc2(x)\n",
    "#         x = x * (torch.tanh(F.softplus(x)))\n",
    "#         x = self.fc3(x)\n",
    "        return x"
   ]
  },
  {
   "cell_type": "code",
   "execution_count": 7,
   "metadata": {},
   "outputs": [
    {
     "name": "stdout",
     "output_type": "stream",
     "text": [
      "yes\n",
      "Loaded pretrained weights for efficientnet-b6\n"
     ]
    }
   ],
   "source": [
    "if torch.cuda.is_available():\n",
    "    device = torch.device(\"cuda:0\")\n",
    "    print(\"yes\")\n",
    "else:\n",
    "    device = torch.device('cpu')\n",
    "    \n",
    "model = EfficientNetWrapper()\n",
    "model.to(device)\n",
    "\n",
    "criterion = nn.CrossEntropyLoss()\n",
    "optimizer = optim.SGD(model.parameters(), lr=1e-3, momentum=0.9)\n",
    "lr_scheduler = optim.lr_scheduler.StepLR(optimizer, step_size=5, gamma=0.1)"
   ]
  },
  {
   "cell_type": "code",
   "execution_count": 8,
   "metadata": {},
   "outputs": [],
   "source": [
    "def evaluate_acc(model, dataloader):\n",
    "    model.eval()\n",
    "    correct, total = 0, 0\n",
    "    with torch.no_grad():\n",
    "        for i, (imgs, lbls) in enumerate(dataloader):\n",
    "            outs = model(imgs.to(device))\n",
    "            _, temp_preds = torch.max(outs, 1)\n",
    "            total += lbls.size(0)\n",
    "            temp_preds = temp_preds.cpu()\n",
    "            correct += (temp_preds == lbls).sum().item()\n",
    "    return correct / total"
   ]
  },
  {
   "cell_type": "code",
   "execution_count": 9,
   "metadata": {},
   "outputs": [
    {
     "data": {
      "application/vnd.jupyter.widget-view+json": {
       "model_id": "552c969a6bea4099932e70ac042c975c",
       "version_major": 2,
       "version_minor": 0
      },
      "text/plain": [
       "HBox(children=(FloatProgress(value=0.0, max=20.0), HTML(value='')))"
      ]
     },
     "metadata": {},
     "output_type": "display_data"
    },
    {
     "name": "stdout",
     "output_type": "stream",
     "text": [
      "\n"
     ]
    }
   ],
   "source": [
    "train_loss_history = []\n",
    "train_acc_history = []\n",
    "val_loss_history = []\n",
    "val_acc_history = []\n",
    "\n",
    "NUM_EPOCHS=2\n",
    "best_val_acc = 0\n",
    "\n",
    "for epoch in tqdm.notebook.tqdm(range(NUM_EPOCHS)):\n",
    "    model.train()\n",
    "    correct = 0\n",
    "    for i, (imgs, lbls) in enumerate(train_loader):\n",
    "        imgs, lbls = imgs.to(device), lbls.to(device)\n",
    "        optimizer.zero_grad()\n",
    "        output = model(imgs)\n",
    "        train_loss = F.cross_entropy(output, lbls).to(device)\n",
    "        train_loss.backward()\n",
    "        optimizer.step()\n",
    "        pred = output.argmax(dim=1, keepdim=True)\n",
    "        correct += pred.eq(lbls.view_as(pred)).sum().item()\n",
    "        train_acc = 100. * correct / len(train_loader.dataset)\n",
    "        \n",
    "        train_loss_history.append(train_loss.item())\n",
    "        train_acc_history.append(train_acc)\n",
    "        \n",
    "    model.eval()\n",
    "    val_loss = 0\n",
    "    correct = 0\n",
    "    for imgs, lbls in val_loader:\n",
    "        imgs, lbls = imgs.to(device), lbls.to(device)\n",
    "        output = model(imgs)\n",
    "        val_loss += F.cross_entropy(output, lbls).to(device).item() \n",
    "        pred = output.argmax(dim=1, keepdim=True)\n",
    "        correct += pred.eq(lbls.view_as(pred)).sum().item()\n",
    "\n",
    "    val_loss /= len(val_loader.dataset)\n",
    "    val_acc = 100. * correct / len(val_loader.dataset)\n",
    "    \n",
    "    val_loss_history.append(val_loss)\n",
    "    val_acc_history.append(val_acc)\n",
    "    \n",
    "    if val_acc > best_val_acc:\n",
    "        best_val_acc = val_acc\n",
    "        \n",
    "    \n",
    "\n",
    "    lr_scheduler.step()"
   ]
  },
  {
   "cell_type": "code",
   "execution_count": 10,
   "metadata": {
    "scrolled": true
   },
   "outputs": [
    {
     "data": {
      "text/plain": [
       "<matplotlib.axes._subplots.AxesSubplot at 0x7f6d235d96d0>"
      ]
     },
     "execution_count": 10,
     "metadata": {},
     "output_type": "execute_result"
    },
    {
     "data": {
      "image/png": "[encoded data removed]",
      "text/plain": [
       "<Figure size 432x288 with 1 Axes>"
      ]
     },
     "metadata": {
      "needs_background": "light"
     },
     "output_type": "display_data"
    }
   ],
   "source": [
    "pd.Series(train_loss_history).plot()"
   ]
  },
  {
   "cell_type": "code",
   "execution_count": 11,
   "metadata": {},
   "outputs": [
    {
     "name": "stdout",
     "output_type": "stream",
     "text": [
      "0.9699129057798892\n"
     ]
    }
   ],
   "source": [
    "test_accuracy = evaluate_acc(model, test_loader)\n",
    "print(test_accuracy)"
   ]
  },
  {
   "cell_type": "code",
   "execution_count": 12,
   "metadata": {},
   "outputs": [],
   "source": [
    "# Adam ELU, 20 epoches, batchsize=100, efficientnet b3, 98.46\n",
    "# Adam ReLU, 20 epoches, batchsize=100, 97.87\n",
    "# "
   ]
  }
 ],
 "metadata": {
  "kernelspec": {
   "display_name": "Python [conda env:root] *",
   "language": "python",
   "name": "conda-root-py"
  },
  "language_info": {
   "codemirror_mode": {
    "name": "ipython",
    "version": 3
   },
   "file_extension": ".py",
   "mimetype": "text/x-python",
   "name": "python",
   "nbconvert_exporter": "python",
   "pygments_lexer": "ipython3",
   "version": "3.7.4"
  }
 },
 "nbformat": 4,
 "nbformat_minor": 4
}
